{
  "cells": [
    {
      "cell_type": "markdown",
      "metadata": {
        "id": "view-in-github",
        "colab_type": "text"
      },
      "source": [
        "<a href=\"https://colab.research.google.com/github/brigham4210/CSE280/blob/main/Copy_of_cse280_homework_01.ipynb\" target=\"_parent\"><img src=\"https://colab.research.google.com/assets/colab-badge.svg\" alt=\"Open In Colab\"/></a>"
      ]
    },
    {
      "cell_type": "markdown",
      "metadata": {
        "id": "_Mr3AvSgSswx"
      },
      "source": [
        "# <font color=blue>Homework 1 - Propositions & Logic </font>\n",
        "## <font color=blue>Prepare</font>"
      ]
    },
    {
      "cell_type": "markdown",
      "metadata": {
        "id": "qWizGbg0QI0y"
      },
      "source": [
        "**Instructions:** Complete the exercises below.\n",
        "\n",
        "1. First, make a copy of this Colab Notebook to your GitHub account as a GitHub Gist (File -> Save a copy as a GitHub Gist). This will allow you to save any changes you make.\n",
        "\n",
        "2. Click the settings icon in the top-right corner of the Colab window. Make sure the box \"New notebooks use private outputs (omit outputs when saving)\" is NOT checked. This will make sure any Python output is saved with your notebook.\n",
        "\n",
        "    ![alt text](https://github.com/byui-cse/cse280-course-notebooks/blob/main/homework/settings-1.png?raw=1)\n",
        "\n",
        "    ![alt text](https://github.com/byui-cse/cse280-course-notebooks/blob/main/homework/settings-2.png?raw=1)\n",
        "\n",
        "3. Now enter your answers to each question in the places shown below. \n",
        "\n",
        "3. To submit your work, turn in the URL for your Colab notebook. Make sure the URL has the word `gist` in it. It should look something like this:\n",
        "`https://colab.research.google.com/gist/yourgithubusername/somerandomnumbersandletters/chapter-1-introductions-exercises.ipynb`"
      ]
    },
    {
      "cell_type": "markdown",
      "metadata": {
        "id": "ww2riKFmQI00"
      },
      "source": [
        "### Exercise 1.1"
      ]
    },
    {
      "cell_type": "markdown",
      "metadata": {
        "id": "2pcAJcFCYS42"
      },
      "source": [
        "Write three propositions and three non-propositions."
      ]
    },
    {
      "cell_type": "markdown",
      "metadata": {
        "id": "Ld7KIVyEQI02"
      },
      "source": [
        "Your Answer:\n",
        "\n",
        "\n",
        "\n",
        "\n"
      ]
    },
    {
      "cell_type": "markdown",
      "source": [
        "Propositions:\n",
        "\n",
        "1. I like Brother Phillips.\n",
        "\n",
        "2. I pay the tax.\n",
        "\n",
        "3. He is funny.\n",
        "\n",
        "\n",
        "Non-propositions:\n",
        "\n",
        "1. Are you happy.\n",
        "\n",
        "2. Go to bed.\n",
        "\n",
        "3. Just do it.\n"
      ],
      "metadata": {
        "id": "azKEWlwvRhT4"
      }
    },
    {
      "cell_type": "markdown",
      "metadata": {
        "id": "cka7gs7GBS72"
      },
      "source": [
        "### Exercise 1.2"
      ]
    },
    {
      "cell_type": "markdown",
      "metadata": {
        "id": "mbd0-wcaBoAi"
      },
      "source": [
        "Let $p$ be the proposition \"I studied.\" and $q$ be the proposition \"I got an A on the test.\" Express the following symbolic propositions in English:\n",
        "1. $p \\land q$.\n",
        "2. $\\lnot p \\land q$.\n",
        "3. $p \\land \\lnot q$.\n",
        "4. $\\lnot p \\land \\lnot q$.\n",
        "5. $p \\lor q$.\n",
        "6. $\\lnot p \\lor q$.\n",
        "7. $p \\lor \\lnot q$.\n",
        "8. $\\lnot p \\lor \\lnot q$.\n"
      ]
    },
    {
      "cell_type": "markdown",
      "metadata": {
        "id": "zq-L9qLBQI04"
      },
      "source": [
        "Your Answer:\n",
        "\n",
        "1. I studied and I got an A on the test.\n",
        "\n",
        "2. I did not study and I got an A on the test.\n",
        "\n",
        "3. I studied and I did not get an A on the test.\n",
        "\n",
        "4. I did not study and I did not get an A on the test.\n",
        "\n",
        "5. I studied or I got an A on the test.\n",
        "\n",
        "6. I did not study or I got an A on the test.\n",
        "\n",
        "7. I studied or I did not get an A on the test.\n",
        "\n",
        "8. I did not study or I did not get an A on the test.\n"
      ]
    },
    {
      "cell_type": "markdown",
      "metadata": {
        "id": "RA3nTBfMYYUm"
      },
      "source": [
        "### Exercise 1.3"
      ]
    },
    {
      "cell_type": "markdown",
      "metadata": {
        "id": "B5CMZM5MYYUn"
      },
      "source": [
        "Construct truth tables for the following propositions:\n",
        "1. $p \\land q$\n",
        "2. $p \\lor q$\n",
        "3. $\\lnot p \\lor q$\n",
        "4. $p \\land \\lnot q$\n",
        "5. $p \\land (q \\oplus \\lnot r)$\n",
        "6. $p \\lor (\\lnot q \\oplus \\lnot r)$\n",
        "\n",
        "This is a chance to practice using either LaTeX or Markdown to construct tables. Just \"Google\" it!\n",
        "\n",
        "Or you can draw them by hand. The point is to practice creating them.\n",
        "\n",
        "Here is an example of how to create a table using Markdown (double-click on cell to see source):\n",
        "\n",
        "| p | q | p $\\land$ q |\n",
        "|---|---|---|\n",
        "|T|T|T|\n",
        "|T|F|F|\n",
        "|F|T|F|\n",
        "|F|F|F|\n",
        "\n",
        "\n",
        "You may create a single large truth table or six smaller truth tables.\n",
        "\n",
        "1. $p \\land q$\n",
        "\n",
        "| p | q | p $\\land$ q |\n",
        "|---|---|---|\n",
        "|T|T|T|\n",
        "|T|F|F|\n",
        "|F|T|F|\n",
        "|F|F|F|\n",
        "\n",
        "2. $p \\lor q$\n",
        "\n",
        "| p | q | p $\\lor$ q |\n",
        "|---|---|---|\n",
        "|T|T|T|\n",
        "|T|F|T|\n",
        "|F|T|T|\n",
        "|F|F|F|\n",
        "\n",
        "\n",
        "3. $\\lnot p \\lor q$\n",
        "\n",
        "| p | q | $\\lnot$ p $\\lor$ q|\n",
        "|---|---|---|\n",
        "|T|T|T|\n",
        "|T|F|F|\n",
        "|F|T|T|\n",
        "|F|F|T|\n",
        "\n",
        "4. $p \\land \\lnot q$\n",
        "\n",
        "| p | q | p $\\land$ $\\lnot$ q|\n",
        "|---|---|---|\n",
        "|T|T|F|\n",
        "|T|F|T|\n",
        "|F|T|F|\n",
        "|F|F|F|\n",
        "\n",
        "\n",
        "5. $p \\land (q \\oplus \\lnot r)$\n",
        "\n",
        "| p | q | r |p $\\land$ (q $\\oplus$ $\\lnot$ r)|\n",
        "|---|---|---|---|\n",
        "|T|T|T|T|\n",
        "|T|T|F|F|\n",
        "|T|F|T|F|\n",
        "|T|F|F|T|\n",
        "|F|T|T|F|\n",
        "|F|T|F|F|\n",
        "|F|F|T|F|\n",
        "|F|F|F|F|\n",
        "\n",
        "6. $p \\lor (\\lnot q \\oplus \\lnot r)$\n",
        "\n",
        "| p | q | r | p $\\lor$ ($\\lnot$ q $\\oplus$ $\\lnot$ r)|\n",
        "|---|---|---|---|\n",
        "|T|T|T|T|\n",
        "|T|T|F|T|\n",
        "|T|F|T|T|\n",
        "|T|F|F|T|\n",
        "|F|T|T|F|\n",
        "|F|T|F|T|\n",
        "|F|F|T|T|\n",
        "|F|F|F|F|\n"
      ]
    },
    {
      "cell_type": "markdown",
      "metadata": {
        "id": "bxPjVXGRQI09"
      },
      "source": [
        "Your Answer:"
      ]
    },
    {
      "cell_type": "markdown",
      "metadata": {
        "id": "JjQ3vYtDQI09"
      },
      "source": [
        "### Exercise 1.4"
      ]
    },
    {
      "cell_type": "markdown",
      "metadata": {
        "id": "p2xAiqSuQI09"
      },
      "source": [
        "Python has built in logical operators for **or**, **and**, and **not**. Using these operators, write a Python function called `xor` to implement the **exclusive or** operation. Your `xor` function should take two arguments.\n",
        "\n",
        "After you implement your function, run the following code, which should result in a truth table for exclusive or.\n",
        "\n"
      ]
    },
    {
      "cell_type": "code",
      "source": [
        "def NOT(p):\n",
        "  if p == True:\n",
        "    return False\n",
        "  elif p == False:\n",
        "    return True\n",
        "\n",
        "def OR(p,q):\n",
        "  if p == False and q == False:\n",
        "    return False\n",
        "  else:\n",
        "    return True\n",
        "\n",
        "def AND(p,q):\n",
        "  if p == True and q ==True:\n",
        "    return True\n",
        "  else:\n",
        "    return False\n",
        "\n",
        "def xor(p,q):\n",
        "  if p == q :\n",
        "    return False\n",
        "  else:\n",
        "    return True"
      ],
      "metadata": {
        "id": "bOHYRDwkgS-l"
      },
      "execution_count": null,
      "outputs": []
    },
    {
      "cell_type": "code",
      "execution_count": null,
      "metadata": {
        "id": "D7_DB0rQQI0-",
        "colab": {
          "base_uri": "https://localhost:8080/"
        },
        "outputId": "43a6bcaf-d9e1-485c-d78e-361f5e200758"
      },
      "outputs": [
        {
          "output_type": "stream",
          "name": "stdout",
          "text": [
            "p       q       p xor q\n",
            "True    True    False   \n",
            "True    False   True    \n",
            "False   True    True    \n",
            "False   False   False   \n"
          ]
        }
      ],
      "source": [
        "# Print a truth table for p xor q\n",
        "print(f'p       q       p xor q')\n",
        "for (p,q) in [(p,q) for p in [True, False] for q in [True, False]]:\n",
        "    print(f'{p!s:<8}{q!s:<8}{xor(p,q)!s:<8}')\n",
        "\n",
        "\n",
        "# Should result in output like this:\n",
        "# p       q       p xor q\n",
        "# True    True    False   \n",
        "# True    False   True    \n",
        "# False   True    True    \n",
        "# False   False   False "
      ]
    },
    {
      "cell_type": "markdown",
      "metadata": {
        "id": "0yLKGSSVQI0-"
      },
      "source": [
        "### Exercise 1.5"
      ]
    },
    {
      "cell_type": "markdown",
      "metadata": {
        "id": "4N1D7mPvQI0_"
      },
      "source": [
        "Explore logical operations in Python by using Python to generate a truth table for the following propositions:\n",
        "1. $p \\land q$\n",
        "2. $p \\lor q$\n",
        "3. $\\lnot p \\lor q$\n",
        "4. $p \\land \\lnot q$\n",
        "5. $p \\land (q \\oplus \\lnot r)$\n",
        "6. $p \\lor (\\lnot q \\oplus \\lnot r)$\n",
        "\n",
        "Compare your Python result with the tables you created in Exercise 1.3.\n",
        "\n",
        "You may need to use the `xor` function you created previously."
      ]
    },
    {
      "cell_type": "markdown",
      "metadata": {
        "id": "bWUpoPuQQI0_"
      },
      "source": [
        "Your Answer:"
      ]
    },
    {
      "cell_type": "code",
      "source": [
        "# p ∧ q\n",
        "\n",
        "print(f'p       q       p and q')\n",
        "for (p,q) in [(p,q) for p in [True, False] for q in [True, False]]:\n",
        "    print(f'{p!s:<8}{q!s:<8}{AND(p,q)!s:<8}')"
      ],
      "metadata": {
        "colab": {
          "base_uri": "https://localhost:8080/"
        },
        "id": "9eNZNPhrd005",
        "outputId": "e68b5c75-dd3b-46ad-850f-b51581e42c48"
      },
      "execution_count": null,
      "outputs": [
        {
          "output_type": "stream",
          "name": "stdout",
          "text": [
            "p       q       p or q\n",
            "True    True    True    \n",
            "True    False   False   \n",
            "False   True    False   \n",
            "False   False   False   \n"
          ]
        }
      ]
    },
    {
      "cell_type": "code",
      "source": [
        "# p ∨ q\n",
        "\n",
        "print(f'p       q       p or q')\n",
        "for (p,q) in [(p,q) for p in [True, False] for q in [True, False]]:\n",
        "    print(f'{p!s:<8}{q!s:<8}{OR(p,q)!s:<8}')"
      ],
      "metadata": {
        "colab": {
          "base_uri": "https://localhost:8080/"
        },
        "id": "BAjtzrLdiSTx",
        "outputId": "84164ca4-734b-4d56-f409-5133ce12f406"
      },
      "execution_count": null,
      "outputs": [
        {
          "output_type": "stream",
          "name": "stdout",
          "text": [
            "p       q       p or q\n",
            "True    True    True    \n",
            "True    False   True    \n",
            "False   True    True    \n",
            "False   False   False   \n"
          ]
        }
      ]
    },
    {
      "cell_type": "code",
      "source": [
        "# ¬p ∨ q\n",
        "\n",
        "print(f'p       q       ¬p or q')\n",
        "for (p,q) in [(p,q) for p in [True, False] for q in [True, False]]:\n",
        "    print(f'{p!s:<8}{q!s:<8}{OR(NOT(p),q)!s:<8}')"
      ],
      "metadata": {
        "colab": {
          "base_uri": "https://localhost:8080/"
        },
        "id": "G__kWZdOd2ED",
        "outputId": "65d89ebb-6249-47fb-d97e-6e860f79672c"
      },
      "execution_count": null,
      "outputs": [
        {
          "output_type": "stream",
          "name": "stdout",
          "text": [
            "p       q       ¬p or q\n",
            "True    True    True    \n",
            "True    False   False   \n",
            "False   True    True    \n",
            "False   False   True    \n"
          ]
        }
      ]
    },
    {
      "cell_type": "code",
      "source": [
        "# p ∧ ¬q\n",
        "\n",
        "print(f'p       q       p and ¬q')\n",
        "for (p,q) in [(p,q) for p in [True, False] for q in [True, False]]:\n",
        "    print(f'{p!s:<8}{q!s:<8}{AND(p,NOT(q))!s:<8}')"
      ],
      "metadata": {
        "colab": {
          "base_uri": "https://localhost:8080/"
        },
        "id": "2lUCdGGdn1Cq",
        "outputId": "47991532-8707-455a-a449-1776dc9a2ba0"
      },
      "execution_count": null,
      "outputs": [
        {
          "output_type": "stream",
          "name": "stdout",
          "text": [
            "p       q       p and ¬q\n",
            "True    True    False   \n",
            "True    False   True    \n",
            "False   True    False   \n",
            "False   False   False   \n"
          ]
        }
      ]
    },
    {
      "cell_type": "code",
      "source": [
        "# p ∧ (q ⊕ ¬r)\n",
        "\n",
        "print(f'p       q       r       p and (q xor ¬r)')\n",
        "for (p,q,r) in [(p,q,r) for p in [True, False] for q in [True, False] for r in [True, False]]:\n",
        "    print(f'{p!s:<8}{q!s:<8}{r!s:<8}{AND(p,xor(q,NOT(r)))!s:<8}')\n"
      ],
      "metadata": {
        "colab": {
          "base_uri": "https://localhost:8080/"
        },
        "id": "0ZDuAbfEoXRD",
        "outputId": "d0b546af-df01-4f0d-aa6d-872db015e6b2"
      },
      "execution_count": null,
      "outputs": [
        {
          "output_type": "stream",
          "name": "stdout",
          "text": [
            "p       q       r       p and (q xor ¬r)\n",
            "True    True    True    True    \n",
            "True    True    False   False   \n",
            "True    False   True    False   \n",
            "True    False   False   True    \n",
            "False   True    True    False   \n",
            "False   True    False   False   \n",
            "False   False   True    False   \n",
            "False   False   False   False   \n"
          ]
        }
      ]
    },
    {
      "cell_type": "code",
      "source": [
        "# p ∨ (¬q ⊕ ¬r)\n",
        "\n",
        "print(f'p       q       r       p or (¬q xor ¬r)')\n",
        "for (p,q,r) in [(p,q,r) for p in [True, False] for q in [True, False] for r in [True, False]]:\n",
        "    print(f'{p!s:<8}{q!s:<8}{r!s:<8}{OR(p,xor(NOT(q),NOT(r)))!s:<8}')"
      ],
      "metadata": {
        "colab": {
          "base_uri": "https://localhost:8080/"
        },
        "id": "-sLZixvDtBTL",
        "outputId": "fe5a75a1-b562-4ea8-d52b-033b48a38870"
      },
      "execution_count": 23,
      "outputs": [
        {
          "output_type": "stream",
          "name": "stdout",
          "text": [
            "p       q       r       p or (¬q xor ¬r)\n",
            "True    True    True    True    \n",
            "True    True    False   True    \n",
            "True    False   True    True    \n",
            "True    False   False   True    \n",
            "False   True    True    False   \n",
            "False   True    False   True    \n",
            "False   False   True    True    \n",
            "False   False   False   False   \n"
          ]
        }
      ]
    }
  ],
  "metadata": {
    "colab": {
      "collapsed_sections": [],
      "name": "Copy of cse280-homework-01.ipynb",
      "provenance": [],
      "include_colab_link": true
    },
    "kernelspec": {
      "display_name": "Python 3",
      "language": "python",
      "name": "python3"
    },
    "language_info": {
      "codemirror_mode": {
        "name": "ipython",
        "version": 3
      },
      "file_extension": ".py",
      "mimetype": "text/x-python",
      "name": "python",
      "nbconvert_exporter": "python",
      "pygments_lexer": "ipython3",
      "version": "3.9.0"
    }
  },
  "nbformat": 4,
  "nbformat_minor": 0
}